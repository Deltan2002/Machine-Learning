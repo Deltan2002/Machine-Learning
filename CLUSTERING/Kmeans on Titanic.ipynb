{
 "cells": [
  {
   "cell_type": "code",
   "execution_count": 7,
   "id": "2cb09edd",
   "metadata": {},
   "outputs": [],
   "source": [
    "import matplotlib.pyplot as plt\n",
    "from matplotlib import style\n",
    "style.use('ggplot')\n",
    "import numpy as np\n",
    "from sklearn.cluster import KMeans\n",
    "from sklearn.model_selection import train_test_split\n",
    "from sklearn import preprocessing\n",
    "import pandas as pd"
   ]
  },
  {
   "cell_type": "code",
   "execution_count": 39,
   "id": "1e56d7a1",
   "metadata": {},
   "outputs": [
    {
     "name": "stdout",
     "output_type": "stream",
     "text": [
      "   pclass  survived     sex      age  sibsp  parch  ticket      fare    cabin  \\\n",
      "0       1         1  female  29.0000      0      0   24160  211.3375       B5   \n",
      "1       1         1    male   0.9167      1      2  113781  151.5500  C22 C26   \n",
      "2       1         0  female   2.0000      1      2  113781  151.5500  C22 C26   \n",
      "3       1         0    male  30.0000      1      2  113781  151.5500  C22 C26   \n",
      "4       1         0  female  25.0000      1      2  113781  151.5500  C22 C26   \n",
      "\n",
      "  embarked boat                        home.dest  \n",
      "0        S    2                     St Louis, MO  \n",
      "1        S   11  Montreal, PQ / Chesterville, ON  \n",
      "2        S    0  Montreal, PQ / Chesterville, ON  \n",
      "3        S    0  Montreal, PQ / Chesterville, ON  \n",
      "4        S    0  Montreal, PQ / Chesterville, ON  \n"
     ]
    }
   ],
   "source": [
    "df = pd.read_excel('../titanic.xls')\n",
    "df.drop(['body','name'],axis=1,inplace=True)\n",
    "df.fillna(0,inplace=True)\n",
    "print(df.head())"
   ]
  },
  {
   "cell_type": "code",
   "execution_count": 42,
   "id": "1afe5855",
   "metadata": {},
   "outputs": [],
   "source": [
    "def handle_non_numerical_data(df):\n",
    "    columns = df.columns.values\n",
    "    \n",
    "    for column in columns:\n",
    "        text_digit_val = {}\n",
    "        def convert_to_int(val):\n",
    "            return text_digit_val[val]\n",
    "        \n",
    "        if df[column].dtype !=np.int64 and df[column].dtype != np.float64:\n",
    "            column_contents = df[column].values.tolist()\n",
    "            unique_elements = set(column_contents)\n",
    "            x=0\n",
    "            for unique in unique_elements:\n",
    "                if unique not in text_digit_val:\n",
    "                    text_digit_val[unique] =x\n",
    "                    x+=1\n",
    "                    \n",
    "            df[column] = list(map(convert_to_int,df[column]))\n",
    "    return df\n"
   ]
  },
  {
   "cell_type": "code",
   "execution_count": 44,
   "id": "5f740486",
   "metadata": {},
   "outputs": [
    {
     "name": "stdout",
     "output_type": "stream",
     "text": [
      "   pclass  survived  sex      age  sibsp  parch  ticket      fare  cabin  \\\n",
      "0       1         1    1  29.0000      0      0     739  211.3375     91   \n",
      "1       1         1    0   0.9167      1      2     506  151.5500    110   \n",
      "2       1         0    1   2.0000      1      2     506  151.5500    110   \n",
      "3       1         0    0  30.0000      1      2     506  151.5500    110   \n",
      "4       1         0    1  25.0000      1      2     506  151.5500    110   \n",
      "\n",
      "   embarked  boat  home.dest  \n",
      "0         0     2          5  \n",
      "1         0     3        267  \n",
      "2         0     0        267  \n",
      "3         0     0        267  \n",
      "4         0     0        267  \n"
     ]
    }
   ],
   "source": [
    "df = handle_non_numerical_data(df)\n",
    "print(df.head())"
   ]
  },
  {
   "cell_type": "code",
   "execution_count": 46,
   "id": "2fe51b45",
   "metadata": {},
   "outputs": [
    {
     "data": {
      "text/plain": [
       "KMeans(n_clusters=2)"
      ]
     },
     "execution_count": 46,
     "metadata": {},
     "output_type": "execute_result"
    }
   ],
   "source": [
    "X = np.array(df.drop(['survived'], axis= 1).astype(float))\n",
    "y = np.array(df['survived'])\n",
    "\n",
    "clf = KMeans(n_clusters=2)\n",
    "clf.fit(X)"
   ]
  },
  {
   "cell_type": "code",
   "execution_count": null,
   "id": "527a2112",
   "metadata": {},
   "outputs": [],
   "source": []
  }
 ],
 "metadata": {
  "kernelspec": {
   "display_name": "Python 3 (ipykernel)",
   "language": "python",
   "name": "python3"
  },
  "language_info": {
   "codemirror_mode": {
    "name": "ipython",
    "version": 3
   },
   "file_extension": ".py",
   "mimetype": "text/x-python",
   "name": "python",
   "nbconvert_exporter": "python",
   "pygments_lexer": "ipython3",
   "version": "3.9.13"
  }
 },
 "nbformat": 4,
 "nbformat_minor": 5
}
