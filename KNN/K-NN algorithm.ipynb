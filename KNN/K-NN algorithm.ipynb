{
 "cells": [
  {
   "cell_type": "code",
   "execution_count": 1,
   "id": "6f4ba650",
   "metadata": {},
   "outputs": [],
   "source": [
    "from math import sqrt\n",
    "import numpy as np\n",
    "import warnings\n",
    "import matplotlib.pyplot as plt\n",
    "from matplotlib import style \n",
    "from collections import Counter\n",
    "style.use('fivethirtyeight')\n",
    "import pandas as pd\n",
    "import random"
   ]
  },
  {
   "cell_type": "code",
   "execution_count": 2,
   "id": "819e2c21",
   "metadata": {},
   "outputs": [],
   "source": [
    "def knn(data,pred,k=3):\n",
    "    if len(data) >= k:\n",
    "        warnings.warn('K is set to a value less than total voting groups!')\n",
    "        \n",
    "    distance =[]\n",
    "    for group in data:\n",
    "        for features in data[group]:\n",
    "            euclid_dist = np.linalg.norm(np.array(features)-np.array(pred))\n",
    "            distance.append([euclid_dist,group])\n",
    "    votes = [i[1] for i in sorted(distance)[:k]]\n",
    "    vote_res = Counter(votes).most_common(1)[0][0]\n",
    "    return vote_res"
   ]
  },
  {
   "cell_type": "code",
   "execution_count": 3,
   "id": "510d3b8d",
   "metadata": {},
   "outputs": [
    {
     "name": "stderr",
     "output_type": "stream",
     "text": [
      "/tmp/ipykernel_5851/2524613969.py:3: FutureWarning: In a future version of pandas all arguments of DataFrame.drop except for the argument 'labels' will be keyword-only.\n",
      "  df.drop(['id'],1,inplace=True)\n"
     ]
    }
   ],
   "source": [
    "df = pd.read_csv('breast-cancer-wisconsin.data')\n",
    "df.replace('?',-99999,inplace=True)\n",
    "df.drop(['id'],1,inplace=True)\n",
    "full_data=df.astype(float).values.tolist()\n",
    "\n",
    "random.shuffle(full_data)\n",
    "\n",
    "\n",
    "test_size = 0.2\n",
    "train_set = {2:[],4:[]}\n",
    "test_set = {2:[],4:[]}\n",
    "train_data = full_data[:-int(test_size*len(full_data))]\n",
    "test_data = full_data[-int(test_size*len(full_data)):]\n",
    "\n",
    "\n",
    "\n",
    "\n",
    "for i in train_data:\n",
    "    train_set[i[-1]].append(i[:-1])\n",
    "    \n",
    "for i in test_data:\n",
    "    test_set[i[-1]].append(i[:-1])\n",
    "    \n"
   ]
  },
  {
   "cell_type": "code",
   "execution_count": 4,
   "id": "0bc36461",
   "metadata": {},
   "outputs": [
    {
     "name": "stdout",
     "output_type": "stream",
     "text": [
      "Accuracy: 0.9784172661870504\n"
     ]
    }
   ],
   "source": [
    "correct,total = 0,0\n",
    "for group in test_set:\n",
    "    for data in test_set[group]:\n",
    "        vote = knn(train_set,data,k=5)\n",
    "        if group == vote:\n",
    "            correct+=1\n",
    "        total+=1   \n",
    "print('Accuracy:',correct/total)"
   ]
  }
 ],
 "metadata": {
  "kernelspec": {
   "display_name": "Python 3 (ipykernel)",
   "language": "python",
   "name": "python3"
  },
  "language_info": {
   "codemirror_mode": {
    "name": "ipython",
    "version": 3
   },
   "file_extension": ".py",
   "mimetype": "text/x-python",
   "name": "python",
   "nbconvert_exporter": "python",
   "pygments_lexer": "ipython3",
   "version": "3.9.13"
  }
 },
 "nbformat": 4,
 "nbformat_minor": 5
}
