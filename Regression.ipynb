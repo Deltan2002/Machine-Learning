{
 "cells": [
  {
   "cell_type": "code",
   "execution_count": 1,
   "id": "66ab25a7",
   "metadata": {},
   "outputs": [
    {
     "name": "stdout",
     "output_type": "stream",
     "text": [
      "Requirement already satisfied: pandas in /home/deltan/anaconda3/lib/python3.9/site-packages (1.4.4)\n",
      "Requirement already satisfied: python-dateutil>=2.8.1 in /home/deltan/anaconda3/lib/python3.9/site-packages (from pandas) (2.8.2)\n",
      "Requirement already satisfied: pytz>=2020.1 in /home/deltan/anaconda3/lib/python3.9/site-packages (from pandas) (2022.1)\n",
      "Requirement already satisfied: numpy>=1.18.5 in /home/deltan/anaconda3/lib/python3.9/site-packages (from pandas) (1.24.4)\n",
      "Requirement already satisfied: six>=1.5 in /home/deltan/anaconda3/lib/python3.9/site-packages (from python-dateutil>=2.8.1->pandas) (1.16.0)\n",
      "Requirement already satisfied: quandl in /home/deltan/anaconda3/lib/python3.9/site-packages (3.7.0)\n",
      "Requirement already satisfied: requests>=2.7.0 in /home/deltan/anaconda3/lib/python3.9/site-packages (from quandl) (2.28.1)\n",
      "Requirement already satisfied: numpy>=1.8 in /home/deltan/anaconda3/lib/python3.9/site-packages (from quandl) (1.24.4)\n",
      "Requirement already satisfied: more-itertools in /home/deltan/anaconda3/lib/python3.9/site-packages (from quandl) (9.1.0)\n",
      "Requirement already satisfied: six in /home/deltan/anaconda3/lib/python3.9/site-packages (from quandl) (1.16.0)\n",
      "Requirement already satisfied: python-dateutil in /home/deltan/anaconda3/lib/python3.9/site-packages (from quandl) (2.8.2)\n",
      "Requirement already satisfied: inflection>=0.3.1 in /home/deltan/anaconda3/lib/python3.9/site-packages (from quandl) (0.5.1)\n",
      "Requirement already satisfied: pandas>=0.14 in /home/deltan/anaconda3/lib/python3.9/site-packages (from quandl) (1.4.4)\n",
      "Requirement already satisfied: pytz>=2020.1 in /home/deltan/anaconda3/lib/python3.9/site-packages (from pandas>=0.14->quandl) (2022.1)\n",
      "Requirement already satisfied: charset-normalizer<3,>=2 in /home/deltan/anaconda3/lib/python3.9/site-packages (from requests>=2.7.0->quandl) (2.0.4)\n",
      "Requirement already satisfied: certifi>=2017.4.17 in /home/deltan/anaconda3/lib/python3.9/site-packages (from requests>=2.7.0->quandl) (2022.9.14)\n",
      "Requirement already satisfied: idna<4,>=2.5 in /home/deltan/anaconda3/lib/python3.9/site-packages (from requests>=2.7.0->quandl) (3.3)\n",
      "Requirement already satisfied: urllib3<1.27,>=1.21.1 in /home/deltan/anaconda3/lib/python3.9/site-packages (from requests>=2.7.0->quandl) (1.26.11)\n",
      "Requirement already satisfied: scikit-learn in /home/deltan/anaconda3/lib/python3.9/site-packages (1.0.2)\n",
      "Requirement already satisfied: numpy>=1.14.6 in /home/deltan/anaconda3/lib/python3.9/site-packages (from scikit-learn) (1.24.4)\n",
      "Requirement already satisfied: threadpoolctl>=2.0.0 in /home/deltan/anaconda3/lib/python3.9/site-packages (from scikit-learn) (2.2.0)\n",
      "Requirement already satisfied: scipy>=1.1.0 in /home/deltan/anaconda3/lib/python3.9/site-packages (from scikit-learn) (1.9.1)\n",
      "Requirement already satisfied: joblib>=0.11 in /home/deltan/anaconda3/lib/python3.9/site-packages (from scikit-learn) (1.1.0)\n"
     ]
    }
   ],
   "source": [
    "!pip install pandas\n",
    "!pip install quandl\n",
    "!pip install scikit-learn"
   ]
  },
  {
   "cell_type": "code",
   "execution_count": 2,
   "id": "e95480ce",
   "metadata": {},
   "outputs": [],
   "source": [
    "import pandas as pd\n",
    "import quandl\n",
    "import math,datetime\n",
    "import numpy as np\n",
    "from sklearn import preprocessing,svm\n",
    "from sklearn.model_selection import train_test_split\n",
    "from sklearn.linear_model import LinearRegression\n",
    "import matplotlib.pyplot  as plt\n",
    "from matplotlib import style\n",
    "import pickle"
   ]
  },
  {
   "cell_type": "code",
   "execution_count": 3,
   "id": "2f398c5a",
   "metadata": {},
   "outputs": [
    {
     "name": "stdout",
     "output_type": "stream",
     "text": [
      "              Open    High     Low    Close      Volume  Ex-Dividend  \\\n",
      "Date                                                                   \n",
      "2004-08-19  100.01  104.06   95.96  100.335  44659000.0          0.0   \n",
      "2004-08-20  101.01  109.08  100.50  108.310  22834300.0          0.0   \n",
      "2004-08-23  110.76  113.48  109.05  109.400  18256100.0          0.0   \n",
      "2004-08-24  111.24  111.60  103.57  104.870  15247300.0          0.0   \n",
      "2004-08-25  104.76  108.00  103.88  106.000   9188600.0          0.0   \n",
      "\n",
      "            Split Ratio  Adj. Open  Adj. High   Adj. Low  Adj. Close  \\\n",
      "Date                                                                   \n",
      "2004-08-19          1.0  50.159839  52.191109  48.128568   50.322842   \n",
      "2004-08-20          1.0  50.661387  54.708881  50.405597   54.322689   \n",
      "2004-08-23          1.0  55.551482  56.915693  54.693835   54.869377   \n",
      "2004-08-24          1.0  55.792225  55.972783  51.945350   52.597363   \n",
      "2004-08-25          1.0  52.542193  54.167209  52.100830   53.164113   \n",
      "\n",
      "            Adj. Volume  \n",
      "Date                     \n",
      "2004-08-19   44659000.0  \n",
      "2004-08-20   22834300.0  \n",
      "2004-08-23   18256100.0  \n",
      "2004-08-24   15247300.0  \n",
      "2004-08-25    9188600.0  \n"
     ]
    }
   ],
   "source": [
    "df = quandl.get('WIKI/GOOGL')\n",
    "style.use('ggplot')\n",
    "print(df.head())"
   ]
  },
  {
   "cell_type": "code",
   "execution_count": 4,
   "id": "aeed65e0",
   "metadata": {},
   "outputs": [],
   "source": [
    "df = df[['Adj. Open','Adj. High','Adj. Low','Adj. Close','Adj. Volume']]"
   ]
  },
  {
   "cell_type": "code",
   "execution_count": 5,
   "id": "6d03ca7e",
   "metadata": {},
   "outputs": [],
   "source": [
    "df['HL_PCT'] = (df['Adj. High']-df['Adj. Close']) / df['Adj. Close'] *100.0\n",
    "df['PCT_change'] = (df['Adj. Close']-df['Adj. Open']) / df['Adj. Open'] *100.0"
   ]
  },
  {
   "cell_type": "code",
   "execution_count": 6,
   "id": "c51c856f",
   "metadata": {},
   "outputs": [],
   "source": [
    "df = df[['Adj. Close','HL_PCT','PCT_change','Adj. Volume']]"
   ]
  },
  {
   "cell_type": "code",
   "execution_count": 7,
   "id": "b04bb4e4",
   "metadata": {},
   "outputs": [
    {
     "name": "stdout",
     "output_type": "stream",
     "text": [
      "            Adj. Close    HL_PCT  PCT_change  Adj. Volume\n",
      "Date                                                     \n",
      "2004-08-19   50.322842  3.712563    0.324968   44659000.0\n",
      "2004-08-20   54.322689  0.710922    7.227007   22834300.0\n",
      "2004-08-23   54.869377  3.729433   -1.227880   18256100.0\n",
      "2004-08-24   52.597363  6.417469   -5.726357   15247300.0\n",
      "2004-08-25   53.164113  1.886792    1.183658    9188600.0\n"
     ]
    }
   ],
   "source": [
    "print(df.head())"
   ]
  },
  {
   "cell_type": "code",
   "execution_count": 8,
   "id": "8a5900b7",
   "metadata": {
    "scrolled": true
   },
   "outputs": [
    {
     "name": "stdout",
     "output_type": "stream",
     "text": [
      "            Adj. Close    HL_PCT  PCT_change  Adj. Volume      label\n",
      "Date                                                                \n",
      "2004-08-19   50.322842  3.712563    0.324968   44659000.0  69.078238\n",
      "2004-08-20   54.322689  0.710922    7.227007   22834300.0  67.839414\n",
      "2004-08-23   54.869377  3.729433   -1.227880   18256100.0  68.912727\n",
      "2004-08-24   52.597363  6.417469   -5.726357   15247300.0  70.668146\n",
      "2004-08-25   53.164113  1.886792    1.183658    9188600.0  71.219849\n"
     ]
    }
   ],
   "source": [
    "forecast_col = 'Adj. Close'\n",
    "df.fillna(-99999,inplace=True)\n",
    "\n",
    "\n",
    "forecast_out = int(math.ceil(0.01*len(df)))\n",
    "df['label'] = df[forecast_col].shift(-forecast_out)\n",
    "print(df.head())\n",
    "\n"
   ]
  },
  {
   "cell_type": "code",
   "execution_count": 9,
   "id": "c489e18f",
   "metadata": {},
   "outputs": [
    {
     "name": "stderr",
     "output_type": "stream",
     "text": [
      "/tmp/ipykernel_6316/3308390000.py:1: FutureWarning: In a future version of pandas all arguments of DataFrame.drop except for the argument 'labels' will be keyword-only.\n",
      "  X = np.array(df.drop(['label'],1))\n"
     ]
    }
   ],
   "source": [
    "\n",
    "X = np.array(df.drop(['label'],1))\n",
    "X = preprocessing.scale(X)\n",
    "X_lately = X[-forecast_out:]\n",
    "X = X[:-forecast_out:]\n",
    "\n"
   ]
  },
  {
   "cell_type": "code",
   "execution_count": 10,
   "id": "bfb0570f",
   "metadata": {},
   "outputs": [],
   "source": [
    "df.dropna(inplace=True)\n",
    "y = np.array(df['label'])"
   ]
  },
  {
   "cell_type": "code",
   "execution_count": 11,
   "id": "528b12a8",
   "metadata": {},
   "outputs": [],
   "source": [
    "X_train,X_test,y_train,y_test = train_test_split(X,y,test_size=0.2)"
   ]
  },
  {
   "cell_type": "code",
   "execution_count": 12,
   "id": "ba402fd0",
   "metadata": {},
   "outputs": [],
   "source": [
    "clf = LinearRegression(n_jobs=-1)\n",
    "clf.fit(X_train,y_train)\n",
    "\n",
    "with open('linearregression.pickle','wb') as f:\n",
    "    pickle.dump(clf,f)\n",
    "    \n",
    "\n",
    "pickle_in = open('linearregression.pickle','rb')\n",
    "clf = pickle.load(pickle_in)\n",
    "accuracy = clf.score(X_test,y_test)\n",
    "# print(accuracy)"
   ]
  },
  {
   "cell_type": "code",
   "execution_count": 13,
   "id": "442ff81f",
   "metadata": {},
   "outputs": [
    {
     "name": "stdout",
     "output_type": "stream",
     "text": [
      "[1101.79327897 1073.01723775 1020.07730739 1060.9952649  1073.3027509\n",
      " 1073.43196084 1091.93392091 1111.33155347 1114.55800927 1122.47647065\n",
      " 1131.80461409 1129.46200436 1148.76338033 1164.40698091 1136.37405353\n",
      " 1122.53634851 1088.47357302 1103.0122001  1114.07394158 1121.3240584\n",
      " 1134.9056478  1149.7407701  1181.19869659 1185.85900731 1157.99747402\n",
      " 1168.71413964 1170.54684242 1153.59313078 1118.94079221 1115.19629679\n",
      " 1112.84714026 1070.39843811 1042.51206364 1073.13442369 1021.67851892] 0.9774886826103105 35\n"
     ]
    }
   ],
   "source": [
    "forecast_set = clf.predict(X_lately)\n",
    "print(forecast_set,accuracy,forecast_out)"
   ]
  },
  {
   "cell_type": "code",
   "execution_count": 14,
   "id": "1fa474d2",
   "metadata": {},
   "outputs": [],
   "source": [
    "df['Forecast'] = np.nan\n",
    "last_date = df.iloc[-1].name\n",
    "last_unix = last_date.timestamp()\n",
    "one_day = 86400\n",
    "next_unix = last_unix + one_day"
   ]
  },
  {
   "cell_type": "code",
   "execution_count": 15,
   "id": "b74f928d",
   "metadata": {},
   "outputs": [],
   "source": [
    "for i in forecast_set:\n",
    "    next_date = datetime.datetime.fromtimestamp(next_unix)\n",
    "    next_unix += one_day\n",
    "    # Use .loc for label-based indexing to add new rows\n",
    "    df.loc[next_date] = [np.nan for _ in range(len(df.columns)-1)] + [i]"
   ]
  },
  {
   "cell_type": "code",
   "execution_count": 17,
   "id": "7ec559dd",
   "metadata": {},
   "outputs": [
    {
     "data": {
      "image/png": "[encoded data removed]",
      "text/plain": [
       "<Figure size 640x480 with 1 Axes>"
      ]
     },
     "metadata": {},
     "output_type": "display_data"
    }
   ],
   "source": [
    "df['Adj. Close'].plot()\n",
    "df['Forecast'].plot()\n",
    "plt.legend(loc=4)\n",
    "plt.xlabel('Date')\n",
    "plt.ylabel('Price')\n",
    "plt.show()"
   ]
  }
 ],
 "metadata": {
  "kernelspec": {
   "display_name": "Python 3 (ipykernel)",
   "language": "python",
   "name": "python3"
  },
  "language_info": {
   "codemirror_mode": {
    "name": "ipython",
    "version": 3
   },
   "file_extension": ".py",
   "mimetype": "text/x-python",
   "name": "python",
   "nbconvert_exporter": "python",
   "pygments_lexer": "ipython3",
   "version": "3.9.13"
  }
 },
 "nbformat": 4,
 "nbformat_minor": 5
}
